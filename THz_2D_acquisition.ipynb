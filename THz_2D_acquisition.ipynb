{
 "cells": [
  {
   "cell_type": "code",
   "execution_count": null,
   "id": "63fef80a-56e4-4faf-9d28-1242db143023",
   "metadata": {},
   "outputs": [],
   "source": [
    "### Image acquisition: 210508\n",
    "### 1. Import packages\n",
    "### 2. Connect Motion Controller\n",
    "### 3. Connect Lock-in Amplifier\n",
    "### 4. Check signal\n",
    "### 5. Set initial position\n",
    "### 6. Set final position\n",
    "### 7. Acquire an image\n",
    "### 8. Save the image"
   ]
  },
  {
   "cell_type": "code",
   "execution_count": null,
   "id": "a3f1f823-91dc-4451-9e5b-264b435c4834",
   "metadata": {},
   "outputs": [],
   "source": [
    "### 1. Import packages\n",
    "import io # check blas in skimage\n",
    "import numpy as np\n",
    "import matplotlib.pyplot as plt\n",
    "import serial\n",
    "import time\n",
    "from PIL import Image\n",
    "import progressbar\n",
    "from scipy import ndimage"
   ]
  },
  {
   "cell_type": "code",
   "execution_count": null,
   "id": "a00330a1-b670-42e3-b4e4-6510fcec8e79",
   "metadata": {},
   "outputs": [],
   "source": [
    "### 2. Connect motion controller\n",
    "motion_controller = serial.Serial()\n",
    "motion_controller.baudrate = 19200\n",
    "motion_controller.port = 'COM6'\n",
    "motion_controller.rts=True\n",
    "motion_controller.dtr=True\n",
    "motion_controller.open()\n",
    "\n",
    "print(\"Motion Controller connected to: \" + motion_controller.portstr)"
   ]
  },
  {
   "cell_type": "code",
   "execution_count": null,
   "id": "c2c45b4a-e884-41db-939e-152fb675527b",
   "metadata": {},
   "outputs": [],
   "source": [
    "### 3. Connect Lock-in Amplifier\n",
    "lock_in_amplifier = serial.Serial()\n",
    "lock_in_amplifier.baudrate = 19200\n",
    "lock_in_amplifier.timeout=0.2\n",
    "lock_in_amplifier.port = 'COM9'\n",
    "lock_in_amplifier.rts=True\n",
    "lock_in_amplifier.dtr=True\n",
    "lock_in_amplifier.open()\n",
    "\n",
    "print(\"Lock-in amplifier connected to: \" + lock_in_amplifier.portstr)"
   ]
  },
  {
   "cell_type": "code",
   "execution_count": null,
   "id": "052ba750-75c5-4d11-918b-073f877925c6",
   "metadata": {},
   "outputs": [],
   "source": [
    "### 4. Check signal\n",
    "cmd_lock_in_amplifier='Q\\r' # read Voltage (V)\n",
    "lock_in_amplifier.write(cmd_lock_in_amplifier.encode('ascii'))\n",
    "\n",
    "value=str(lock_in_amplifier.read(lock_in_amplifier.inWaiting()).decode('utf-8'))[0:-1] #remove\\r\n",
    "print(float(np.array(value.rsplit('\\r',2))))"
   ]
  },
  {
   "cell_type": "code",
   "execution_count": null,
   "id": "d4f45690-9294-459f-90ef-9f989f8831d6",
   "metadata": {},
   "outputs": [],
   "source": [
    "### 5. Set initial position\n",
    "pos_X= -10.0 #mm  #Axis 2\n",
    "pos_Y= -10.0 #mm #Axis 1\n",
    "\n",
    "time.sleep(2) \n",
    "#set low speed\n",
    "cmd_motion_controller='1VA5.0\\r\\n'\n",
    "motion_controller.write(cmd_motion_controller.encode('ascii'))\n",
    "cmd_motion_controller='2VA5.0\\r\\n'\n",
    "motion_controller.write(cmd_motion_controller.encode('ascii'))\n",
    "\n",
    "cmd_motion_controller='1PA'+str(round(pos_Y, 4))+'\\r\\n'\n",
    "motion_controller.write(cmd_motion_controller.encode('ascii'))\n",
    "cmd_motion_controller='2PA'+str(round(pos_X, 4))+'\\r\\n'\n",
    "motion_controller.write(cmd_motion_controller.encode('ascii'))\n",
    "time.sleep(1) "
   ]
  },
  {
   "cell_type": "code",
   "execution_count": null,
   "id": "8b95dc8c-90a4-4e0a-a61f-611c19c9fb26",
   "metadata": {},
   "outputs": [],
   "source": [
    "### 6. Set final position\n",
    "final_pos_X = 0.0 #mm  #Axis 2\n",
    "final_pos_Y = 0.0 #mm #Axis 1 \n",
    "\n",
    "step_size=1 #mm  #never bigger thn 1 mm to avoid motor error\n",
    "\n",
    "size_x= int(np.absolute(final_pos_X - pos_X)/step_size) #\n",
    "size_y= int(np.absolute(final_pos_Y - pos_Y)/step_size)  #\n",
    "print(size_x)\n",
    "print(size_y)\n",
    "\n",
    "wait_time=0.3 #0.3 ##wait time over each position 0.4\n",
    "path='Documents/Data/TeraHertz/211113/'\n",
    "sample='211113_noSample_ph_10mm_Overview_1_wt0.3s_300msIntTime'\n",
    "\n",
    "img=np.zeros(shape=[size_y, size_x], dtype=float)\n"
   ]
  },
  {
   "cell_type": "code",
   "execution_count": null,
   "id": "1e1bdf2b-8f76-4a66-bfd2-d720a71417e7",
   "metadata": {},
   "outputs": [],
   "source": [
    "### 7. Acquire an image\n",
    "bar = progressbar.ProgressBar().start()\n",
    "pos_XY=[]\n",
    "#set low speed for axis 1 and 2 (y and x)\n",
    "cmd_motion_controller='1VA20.0\\r\\n' #20.0 if step=1 mm for less 30.0\n",
    "motion_controller.write(cmd_motion_controller.encode('ascii'))\n",
    "cmd_motion_controller='2VA15.0\\r\\n'\n",
    "motion_controller.write(cmd_motion_controller.encode('ascii'))\n",
    "##Right to Left, Bottom Up\n",
    "mylist=[]\n",
    "for y in range(0,size_y):\n",
    "    #plt.imshow(img)\n",
    "    cmd_motion_controller='1PA'+str(round(pos_Y+(y*step_size), 4))+'\\r\\n'\n",
    "    motion_controller.write(cmd_motion_controller.encode('ascii'))\n",
    "    #print(str(round(pos_Y+(y*step_size), 4)))\n",
    "    part= Image.fromarray(img)\n",
    "    part.save(path+sample+'_start_'+str(pos_X)+'_'+str(pos_Y)+'_'+str(size_x)+'_pix-'+str(size_x)+'_pix'+'_sampling_'+str(step_size)+'_mm-PARTIAL.tiff')\n",
    "    for x in range(0,size_x):\n",
    "        cmd_motion_controller='2PA'+str(round(pos_X+(x*step_size), 4))+'\\r\\n'\n",
    "        motion_controller.write(cmd_motion_controller.encode('ascii'))\n",
    "        \n",
    "        ### TO DO: get real position\n",
    "        # time.sleep(wait_time)\n",
    "        # cmd_motion_controller='1PA?\\r\\n'\n",
    "        # motion_controller.write(cmd_motion_controller.encode('ascii'))\n",
    "        # val_y=motion_controller.read(motion_controller.inWaiting()).decode('utf-8') #remove\\r\n",
    "        # #print(val_y)\n",
    "        # time.sleep(wait_time)\n",
    "        # cmd_motion_controller='2PA?\\r\\n'\n",
    "        # motion_controller.write(cmd_motion_controller.encode('ascii'))\n",
    "        # val_x=motion_controller.read(motion_controller.inWaiting()).decode('utf-8')#remove\\r\n",
    "        # #print(val_x)\n",
    "        # pos_XY.append([val_x, val_y])\n",
    "        \n",
    "        time.sleep(wait_time) #allow signal to stabilise?\n",
    "        ###READING SIGNAL\n",
    "        cmd_lock_in_amplifier='Q \\r\\n' # print Amplitude -> see table\n",
    "        lock_in_amplifier.write(cmd_lock_in_amplifier.encode('ascii'))\n",
    "        value=str(lock_in_amplifier.read(lock_in_amplifier.inWaiting()).decode('utf-8'))[0:-1] #remove\\r #remove\\r  #need wait_time=0.5 ?? free buffer?\n",
    "        img[y,x]=value\n",
    "        mylist.append(value)\n",
    "        bar.update(100*(x+1)*(y+1)/(size_x*size_y))\n",
    "    "
   ]
  },
  {
   "cell_type": "code",
   "execution_count": null,
   "id": "26ff630f-c2b2-475f-9fe4-624a51c0c5c1",
   "metadata": {},
   "outputs": [],
   "source": [
    "### 8. Save the image\n",
    "rotated=ndimage.rotate(img, 180)\n",
    "im = Image.fromarray(rotated) \n",
    "im.save(path+sample+'_start_'+str(pos_X)+'_'+str(pos_Y)+'_'+str(size_x)+'_pix-'+str(size_x)+'_pix'+'_sampling_'+str(step_size)+'_mm.tiff')"
   ]
  }
 ],
 "metadata": {
  "kernelspec": {
   "display_name": "Python 3",
   "language": "python",
   "name": "python3"
  },
  "language_info": {
   "codemirror_mode": {
    "name": "ipython",
    "version": 3
   },
   "file_extension": ".py",
   "mimetype": "text/x-python",
   "name": "python",
   "nbconvert_exporter": "python",
   "pygments_lexer": "ipython3",
   "version": "3.8.8"
  }
 },
 "nbformat": 4,
 "nbformat_minor": 5
}
